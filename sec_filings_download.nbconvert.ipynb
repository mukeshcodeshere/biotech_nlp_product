{
 "cells": [
  {
   "cell_type": "code",
   "execution_count": 1,
   "metadata": {
    "execution": {
     "iopub.execute_input": "2024-11-13T18:38:56.239708Z",
     "iopub.status.busy": "2024-11-13T18:38:56.239708Z",
     "iopub.status.idle": "2024-11-13T18:39:00.179190Z",
     "shell.execute_reply": "2024-11-13T18:39:00.179190Z"
    }
   },
   "outputs": [
    {
     "name": "stderr",
     "output_type": "stream",
     "text": [
      "\r",
      "Downloading files:   0%|                                                                            | 0/1 [00:00<?, ?it/s]"
     ]
    },
    {
     "name": "stderr",
     "output_type": "stream",
     "text": [
      "\n"
     ]
    },
    {
     "name": "stderr",
     "output_type": "stream",
     "text": [
      "\r",
      "Downloading files:   0%|                                                                            | 0/1 [00:00<?, ?it/s]"
     ]
    },
    {
     "name": "stderr",
     "output_type": "stream",
     "text": [
      "\u001b[A"
     ]
    },
    {
     "name": "stderr",
     "output_type": "stream",
     "text": [
      "\n"
     ]
    },
    {
     "name": "stderr",
     "output_type": "stream",
     "text": [
      "\r",
      "Downloading files: 100%|████████████████████████████████████████████████████████████████████| 1/1 [00:00<00:00,  1.65it/s]"
     ]
    },
    {
     "name": "stderr",
     "output_type": "stream",
     "text": [
      "\u001b[A"
     ]
    },
    {
     "name": "stderr",
     "output_type": "stream",
     "text": [
      "\r",
      "Downloading files: 100%|████████████████████████████████████████████████████████████████████| 1/1 [00:00<00:00,  1.65it/s]"
     ]
    },
    {
     "name": "stderr",
     "output_type": "stream",
     "text": [
      "\n",
      "ERROR:__main__:Error downloading company concepts for REGN: object NoneType can't be used in 'await' expression\n"
     ]
    },
    {
     "name": "stdout",
     "output_type": "stream",
     "text": [
      "\n",
      "Successfully downloaded 1 out of 1 URLs\n"
     ]
    },
    {
     "name": "stderr",
     "output_type": "stream",
     "text": [
      "\n"
     ]
    },
    {
     "name": "stderr",
     "output_type": "stream",
     "text": [
      "\r",
      "Fetching URLs:   0%|                                                                               | 0/10 [00:00<?, ?it/s]"
     ]
    },
    {
     "name": "stderr",
     "output_type": "stream",
     "text": [
      "\u001b[A"
     ]
    },
    {
     "name": "stderr",
     "output_type": "stream",
     "text": [
      "\n",
      "\n"
     ]
    },
    {
     "name": "stderr",
     "output_type": "stream",
     "text": [
      "\r",
      "Fetching URLs:   0%|                                                                               | 0/10 [00:00<?, ?it/s]"
     ]
    },
    {
     "name": "stderr",
     "output_type": "stream",
     "text": [
      "\u001b[A\u001b[A"
     ]
    },
    {
     "name": "stderr",
     "output_type": "stream",
     "text": [
      "\r",
      "Downloading files: 100%|████████████████████████████████████████████████████████████████████| 1/1 [00:00<00:00,  1.15it/s]"
     ]
    },
    {
     "name": "stderr",
     "output_type": "stream",
     "text": [
      "\r",
      "Downloading files: 100%|████████████████████████████████████████████████████████████████████| 1/1 [00:00<00:00,  1.15it/s]"
     ]
    },
    {
     "name": "stderr",
     "output_type": "stream",
     "text": [
      "\n"
     ]
    },
    {
     "name": "stdout",
     "output_type": "stream",
     "text": [
      "\n",
      "Successfully downloaded 1 out of 1 URLs\n"
     ]
    },
    {
     "name": "stderr",
     "output_type": "stream",
     "text": [
      "\n"
     ]
    },
    {
     "name": "stderr",
     "output_type": "stream",
     "text": [
      "\r",
      "Fetching URLs:  10%|███████                                                                | 1/10 [00:00<00:03,  2.39it/s]"
     ]
    },
    {
     "name": "stderr",
     "output_type": "stream",
     "text": [
      "\u001b[A"
     ]
    },
    {
     "name": "stderr",
     "output_type": "stream",
     "text": [
      "\n"
     ]
    },
    {
     "name": "stderr",
     "output_type": "stream",
     "text": [
      "\r",
      "Fetching URLs:  30%|█████████████████████▎                                                 | 3/10 [00:00<00:01,  6.33it/s]"
     ]
    },
    {
     "name": "stderr",
     "output_type": "stream",
     "text": [
      "\u001b[A"
     ]
    },
    {
     "name": "stderr",
     "output_type": "stream",
     "text": [
      "\n",
      "\n"
     ]
    },
    {
     "name": "stderr",
     "output_type": "stream",
     "text": [
      "\r",
      "Fetching URLs:  10%|███████                                                                | 1/10 [00:00<00:05,  1.60it/s]"
     ]
    },
    {
     "name": "stderr",
     "output_type": "stream",
     "text": [
      "\u001b[A\u001b[A"
     ]
    },
    {
     "name": "stderr",
     "output_type": "stream",
     "text": [
      "\n"
     ]
    },
    {
     "name": "stderr",
     "output_type": "stream",
     "text": [
      "\r",
      "Fetching URLs:  90%|███████████████████████████████████████████████████████████████▉       | 9/10 [00:00<00:00, 16.98it/s]"
     ]
    },
    {
     "name": "stderr",
     "output_type": "stream",
     "text": [
      "\u001b[A"
     ]
    },
    {
     "name": "stderr",
     "output_type": "stream",
     "text": [
      "\r",
      "Fetching URLs: 100%|██████████████████████████████████████████████████████████████████████| 10/10 [00:00<00:00, 12.00it/s]"
     ]
    },
    {
     "name": "stderr",
     "output_type": "stream",
     "text": [
      "\n"
     ]
    },
    {
     "name": "stdout",
     "output_type": "stream",
     "text": [
      "https://efts.sec.gov/LATEST/search-index?ciks=0000875320&forms=10-K%2C10-Q%2C8-K&startdt=2024-01-01&enddt=2024-06-01\n",
      "Total filings: 7\n"
     ]
    },
    {
     "name": "stderr",
     "output_type": "stream",
     "text": [
      "\r",
      "Downloading files:   0%|                                                                            | 0/7 [00:00<?, ?it/s]"
     ]
    },
    {
     "name": "stderr",
     "output_type": "stream",
     "text": [
      "\n",
      "\n"
     ]
    },
    {
     "name": "stderr",
     "output_type": "stream",
     "text": [
      "\r",
      "Fetching URLs:  20%|██████████████▏                                                        | 2/10 [00:00<00:02,  2.67it/s]"
     ]
    },
    {
     "name": "stderr",
     "output_type": "stream",
     "text": [
      "\u001b[A\u001b[A"
     ]
    },
    {
     "name": "stderr",
     "output_type": "stream",
     "text": [
      "\n",
      "\n"
     ]
    },
    {
     "name": "stderr",
     "output_type": "stream",
     "text": [
      "\r",
      "Fetching URLs:  50%|███████████████████████████████████▌                                   | 5/10 [00:00<00:00,  7.03it/s]"
     ]
    },
    {
     "name": "stderr",
     "output_type": "stream",
     "text": [
      "\u001b[A\u001b[A"
     ]
    },
    {
     "name": "stderr",
     "output_type": "stream",
     "text": [
      "\r",
      "Downloading files:  14%|█████████▋                                                          | 1/7 [00:00<00:01,  3.99it/s]"
     ]
    },
    {
     "name": "stderr",
     "output_type": "stream",
     "text": [
      "\n",
      "\n"
     ]
    },
    {
     "name": "stderr",
     "output_type": "stream",
     "text": [
      "\r",
      "Fetching URLs:  70%|█████████████████████████████████████████████████▋                     | 7/10 [00:01<00:00,  8.69it/s]"
     ]
    },
    {
     "name": "stderr",
     "output_type": "stream",
     "text": [
      "\u001b[A\u001b[A"
     ]
    },
    {
     "name": "stderr",
     "output_type": "stream",
     "text": [
      "\r",
      "Downloading files:  86%|██████████████████████████████████████████████████████████▎         | 6/7 [00:00<00:00, 20.68it/s]"
     ]
    },
    {
     "name": "stderr",
     "output_type": "stream",
     "text": [
      "\r",
      "Downloading files: 100%|████████████████████████████████████████████████████████████████████| 7/7 [00:00<00:00, 14.44it/s]"
     ]
    },
    {
     "name": "stderr",
     "output_type": "stream",
     "text": [
      "\n"
     ]
    },
    {
     "name": "stderr",
     "output_type": "stream",
     "text": [
      "\n",
      "\n"
     ]
    },
    {
     "name": "stderr",
     "output_type": "stream",
     "text": [
      "\r",
      "Fetching URLs:  90%|███████████████████████████████████████████████████████████████▉       | 9/10 [00:01<00:00,  8.00it/s]"
     ]
    },
    {
     "name": "stderr",
     "output_type": "stream",
     "text": [
      "\u001b[A\u001b[A"
     ]
    },
    {
     "name": "stdout",
     "output_type": "stream",
     "text": [
      "\n",
      "Successfully downloaded 7 out of 7 URLs\n"
     ]
    },
    {
     "name": "stderr",
     "output_type": "stream",
     "text": [
      "\r",
      "Fetching URLs: 100%|██████████████████████████████████████████████████████████████████████| 10/10 [00:01<00:00,  6.41it/s]"
     ]
    },
    {
     "name": "stderr",
     "output_type": "stream",
     "text": [
      "\n"
     ]
    },
    {
     "name": "stdout",
     "output_type": "stream",
     "text": [
      "https://efts.sec.gov/LATEST/search-index?ciks=0000872589&forms=10-K%2C10-Q%2C8-K&startdt=2024-01-01&enddt=2024-06-01\n",
      "Total filings: 6\n"
     ]
    },
    {
     "name": "stderr",
     "output_type": "stream",
     "text": [
      "\r",
      "Downloading files:   0%|                                                                            | 0/6 [00:00<?, ?it/s]"
     ]
    },
    {
     "name": "stderr",
     "output_type": "stream",
     "text": [
      "\r",
      "Downloading files:  17%|███████████▎                                                        | 1/6 [00:00<00:01,  3.50it/s]"
     ]
    },
    {
     "name": "stderr",
     "output_type": "stream",
     "text": [
      "\r",
      "Downloading files:  83%|████████████████████████████████████████████████████████▋           | 5/6 [00:00<00:00, 11.79it/s]"
     ]
    },
    {
     "name": "stderr",
     "output_type": "stream",
     "text": [
      "\r",
      "Downloading files: 100%|████████████████████████████████████████████████████████████████████| 6/6 [00:00<00:00, 10.28it/s]"
     ]
    },
    {
     "name": "stderr",
     "output_type": "stream",
     "text": [
      "\n",
      "ERROR:__main__:Error downloading filings for REGN: object NoneType can't be used in 'await' expression\n"
     ]
    },
    {
     "name": "stderr",
     "output_type": "stream",
     "text": [
      "ERROR:__main__:Error downloading company concepts for VRTX: object NoneType can't be used in 'await' expression\n"
     ]
    },
    {
     "name": "stderr",
     "output_type": "stream",
     "text": [
      "ERROR:__main__:Error downloading filings for VRTX: object NoneType can't be used in 'await' expression\n"
     ]
    },
    {
     "name": "stderr",
     "output_type": "stream",
     "text": [
      "INFO:__main__:Download process completed\n"
     ]
    },
    {
     "name": "stdout",
     "output_type": "stream",
     "text": [
      "\n",
      "Successfully downloaded 6 out of 6 URLs\n"
     ]
    }
   ],
   "source": [
    "import os\n",
    "import asyncio\n",
    "import logging\n",
    "import warnings\n",
    "import json\n",
    "from datetime import datetime\n",
    "from glob import glob\n",
    "from typing import List, Dict, Optional\n",
    "import datamule as dm\n",
    "import pandas as pd\n",
    "from selectolax.parser import HTMLParser\n",
    "from config import CONFIG  # Import the config dictionary\n",
    "\n",
    "# Suppress warnings\n",
    "warnings.filterwarnings(\"ignore\")\n",
    "\n",
    "# Get today's date\n",
    "today = datetime.today()\n",
    "\n",
    "# Format the date in 'YYYY-MM-DD' format\n",
    "today_date = today.strftime('%Y-%m-%d')\n",
    "\n",
    "tickers = CONFIG['TICKERS']\n",
    "start = CONFIG['START_DATE']\n",
    "end = CONFIG['END_DATE']\n",
    "base_dir = CONFIG['BASE_DIR']\n",
    "\n",
    "class SECDownloader:\n",
    "    def __init__(self):\n",
    "        self.downloader = dm.Downloader()\n",
    "        logging.basicConfig(level=logging.INFO)\n",
    "        self.logger = logging.getLogger(__name__)\n",
    "        \n",
    "    def set_user_agent(self, user_agent: str) -> None:\n",
    "        \"\"\"Set SEC user agent information.\"\"\"\n",
    "        try:\n",
    "            self.downloader.set_headers(user_agent)\n",
    "        except Exception as e:\n",
    "            self.logger.error(f\"Failed to set user agent: {str(e)}\")\n",
    "            raise\n",
    "            \n",
    "    async def download_filings(self, ticker: str, start_date: str, end_date: str, output_dir: str) -> None:\n",
    "        \"\"\"Download SEC filings with proper error handling.\"\"\"\n",
    "        try:\n",
    "            await self.downloader.download(\n",
    "                ticker=ticker,\n",
    "                form=['10-K', '10-Q', '8-K'],  # Specify forms explicitly\n",
    "                date=(start_date, end_date),\n",
    "                output_dir=output_dir,\n",
    "                return_urls=False  # Ensure we're downloading files\n",
    "            )\n",
    "        except ValueError as e:\n",
    "            self.logger.error(f\"Value error downloading filings for {ticker}: {str(e)}\")\n",
    "        except Exception as e:\n",
    "            self.logger.error(f\"Error downloading filings for {ticker}: {str(e)}\")\n",
    "\n",
    "    async def download_concepts(self, ticker: str, output_dir: str) -> None:\n",
    "        \"\"\"Download company concepts data with proper error handling.\"\"\"\n",
    "        try:\n",
    "            await self.downloader.download_company_concepts(\n",
    "                ticker=ticker,\n",
    "                output_dir=output_dir\n",
    "            )\n",
    "        except Exception as e:\n",
    "            self.logger.error(f\"Error downloading company concepts for {ticker}: {str(e)}\")\n",
    "\n",
    "    async def process_ticker(self, ticker: str, start: str, end: str, base_dir: str) -> None:\n",
    "        \"\"\"Process a single ticker's downloads.\"\"\"\n",
    "        try:\n",
    "            # Create directory structure\n",
    "            ticker_dir = os.path.join(base_dir, ticker)\n",
    "            filings_dir = os.path.join(ticker_dir, 'filings')\n",
    "            concepts_dir = os.path.join(ticker_dir, 'company_concepts')\n",
    "            \n",
    "            os.makedirs(filings_dir, exist_ok=True)\n",
    "            os.makedirs(concepts_dir, exist_ok=True)\n",
    "\n",
    "            # Download both filings and concepts concurrently\n",
    "            await asyncio.gather(\n",
    "                self.download_filings(ticker, start, end, filings_dir),\n",
    "                self.download_concepts(ticker, concepts_dir)\n",
    "            )\n",
    "            \n",
    "        except Exception as e:\n",
    "            self.logger.error(f\"Failed to process ticker {ticker}: {str(e)}\")\n",
    "\n",
    "    async def download_all_data(self, tickers: List[str], start: str, end: str, base_dir: str = 'sec_data') -> None:\n",
    "        \"\"\"Download all SEC data for given tickers.\"\"\"\n",
    "        tasks = []\n",
    "        for ticker in tickers:\n",
    "            task = self.process_ticker(ticker, start, end, base_dir)\n",
    "            tasks.append(task)\n",
    "        \n",
    "        await asyncio.gather(*tasks)\n",
    "\n",
    "# Initialize downloader\n",
    "sec_downloader = SECDownloader()\n",
    "\n",
    "try:\n",
    "    # Set user agent (required by SEC)\n",
    "    sec_downloader.set_user_agent(\"Your Name your@email.com\")\n",
    "    \n",
    "    # Create and run async download task\n",
    "    async def run_downloads():\n",
    "        await sec_downloader.download_all_data(tickers, start, end, base_dir)\n",
    "        \n",
    "    asyncio.run(run_downloads())\n",
    "    \n",
    "except KeyboardInterrupt:\n",
    "    sec_downloader.logger.warning(\"\\nDownload interrupted by user\")\n",
    "except Exception as e:\n",
    "    sec_downloader.logger.error(f\"Fatal error: {str(e)}\")\n",
    "finally:\n",
    "    sec_downloader.logger.info(\"Download process completed\")"
   ]
  }
 ],
 "metadata": {
  "kernelspec": {
   "display_name": "conda_env",
   "language": "python",
   "name": "python3"
  },
  "language_info": {
   "codemirror_mode": {
    "name": "ipython",
    "version": 3
   },
   "file_extension": ".py",
   "mimetype": "text/x-python",
   "name": "python",
   "nbconvert_exporter": "python",
   "pygments_lexer": "ipython3",
   "version": "3.11.10"
  }
 },
 "nbformat": 4,
 "nbformat_minor": 2
}
